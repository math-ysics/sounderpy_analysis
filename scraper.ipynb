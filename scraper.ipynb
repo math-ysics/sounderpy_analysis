{
 "cells": [
  {
   "cell_type": "code",
   "execution_count": 36,
   "metadata": {},
   "outputs": [
    {
     "name": "stderr",
     "output_type": "stream",
     "text": [
      "Processing URLs: 100%|██████████| 1493/1493 [12:58<00:00,  1.92it/s]"
     ]
    },
    {
     "name": "stdout",
     "output_type": "stream",
     "text": [
      "Scraping completed and data saved to stations_coordinates_debug.csv\n"
     ]
    },
    {
     "name": "stderr",
     "output_type": "stream",
     "text": [
      "\n"
     ]
    }
   ],
   "source": [
    "import requests\n",
    "import pandas as pd\n",
    "import re\n",
    "import csv\n",
    "from tqdm import tqdm\n",
    "\n",
    "file_path = '/Users/michael/Documents/sounderpy/bufkit_urls.csv'\n",
    "urls_df = pd.read_csv(file_path)\n",
    "\n",
    "stations = []\n",
    "latitudes = []\n",
    "longitudes = []\n",
    "\n",
    "for index, row in tqdm(urls_df.iterrows(), total=len(urls_df), desc=\"Processing URLs\"):\n",
    "    url = row['URL']\n",
    "    response = requests.get(url)\n",
    "    if response.status_code == 200:\n",
    "        text = response.text\n",
    "\n",
    "        stid_match = re.search(r\"STID = (\\w+)\", text)\n",
    "        slat_match = re.search(r\"SLAT = ([-+]?\\d+\\.\\d+)\", text)\n",
    "        slon_match = re.search(r\"SLON = ([-+]?\\d+\\.\\d+)\", text)\n",
    "\n",
    "        if stid_match and slat_match and slon_match:\n",
    "            stid = stid_match.group(1)\n",
    "            slat = slat_match.group(1)\n",
    "            slon = slon_match.group(1)\n",
    "\n",
    "            stations.append(stid)\n",
    "            latitudes.append(slat)\n",
    "            longitudes.append(slon)\n",
    "    else:\n",
    "        print(f\"Failed to retrieve data from {url}\")\n",
    "\n",
    "data = {\n",
    "    'Station': stations,\n",
    "    'Latitude': latitudes,\n",
    "    'Longitude': longitudes\n",
    "}\n",
    "output_df = pd.DataFrame(data)\n",
    "\n",
    "output_file_path = '/Users/michael/Documents/sounderpy/stations_coordinates_scraped.csv'\n",
    "output_df.to_csv(output_file_path, index=False)\n",
    "\n",
    "print(\"Scraping completed and data saved to stations_coordinates_debug.csv\")"
   ]
  },
  {
   "cell_type": "code",
   "execution_count": 37,
   "metadata": {},
   "outputs": [
    {
     "name": "stderr",
     "output_type": "stream",
     "text": [
      "Processing entries: 100%|██████████| 1493/1493 [00:00<00:00, 21698.94it/s]"
     ]
    },
    {
     "name": "stdout",
     "output_type": "stream",
     "text": [
      "Filtering completed and data saved to stations_coordinates_filtered.csv\n"
     ]
    },
    {
     "name": "stderr",
     "output_type": "stream",
     "text": [
      "\n"
     ]
    }
   ],
   "source": [
    "file_path = '/Users/michael/Documents/sounderpy/stations_coordinates_scraped.csv'\n",
    "df = pd.read_csv(file_path)\n",
    "\n",
    "valid_entries = []\n",
    "\n",
    "for index, row in tqdm(df.iterrows(), total=df.shape[0], desc=\"Processing entries\"):\n",
    "    if len(row['Station']) >= 3:\n",
    "        valid_entries.append(row)\n",
    "\n",
    "filtered_df = pd.DataFrame(valid_entries)\n",
    "\n",
    "output_file_path = '/Users/michael/Documents/sounderpy/stations_coordinates_filtered.csv'\n",
    "filtered_df.to_csv(output_file_path, index=False)\n",
    "\n",
    "print(\"Filtering completed and data saved to stations_coordinates_filtered.csv\")"
   ]
  }
 ],
 "metadata": {
  "kernelspec": {
   "display_name": "Python 3",
   "language": "python",
   "name": "python3"
  },
  "language_info": {
   "codemirror_mode": {
    "name": "ipython",
    "version": 3
   },
   "file_extension": ".py",
   "mimetype": "text/x-python",
   "name": "python",
   "nbconvert_exporter": "python",
   "pygments_lexer": "ipython3",
   "version": "3.10.9"
  }
 },
 "nbformat": 4,
 "nbformat_minor": 2
}
